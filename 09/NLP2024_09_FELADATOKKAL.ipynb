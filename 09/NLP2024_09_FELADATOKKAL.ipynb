{
  "nbformat": 4,
  "nbformat_minor": 0,
  "metadata": {
    "colab": {
      "provenance": [],
      "gpuType": "T4",
      "authorship_tag": "ABX9TyMmjrmDpg42FFx8rt0nVO0k",
      "include_colab_link": true
    },
    "kernelspec": {
      "name": "python3",
      "display_name": "Python 3"
    },
    "language_info": {
      "name": "python"
    },
    "accelerator": "GPU"
  },
  "cells": [
    {
      "cell_type": "markdown",
      "metadata": {
        "id": "view-in-github",
        "colab_type": "text"
      },
      "source": [
        "<a href=\"https://colab.research.google.com/github/karsarobert/NLP_2024/blob/main/09/NLP2024_09_FELADATOKKAL.ipynb\" target=\"_parent\"><img src=\"https://colab.research.google.com/assets/colab-badge.svg\" alt=\"Open In Colab\"/></a>"
      ]
    },
    {
      "cell_type": "markdown",
      "source": [
        "# Természetes nyelvfeldolgozás\n",
        "# PTE Gépi tanulás III.\n",
        "\n",
        "## 9. Gyakorlat\n",
        "### 2024. április 17.\n"
      ],
      "metadata": {
        "id": "MqD2ZFtg18zU"
      }
    },
    {
      "cell_type": "markdown",
      "source": [
        "#Feladat:\n",
        "a gemma2B nagy nyelvi modell finomhangolása a NYTK/alpaca_hu_2k adatkészleten!"
      ],
      "metadata": {
        "id": "x6qQHx1N5xDu"
      }
    },
    {
      "cell_type": "code",
      "source": [
        "!pip install datasets bitsandbytes peft trl accelerate transformers wandb"
      ],
      "metadata": {
        "id": "H_OWTR229bS6"
      },
      "execution_count": null,
      "outputs": []
    },
    {
      "cell_type": "code",
      "source": [
        "import torch\n",
        "from transformers import GemmaTokenizer, GemmaForCausalLM\n",
        "\n",
        "model_path = 'google/gemma-2b'\n",
        "\n",
        "tokenizer_original = GemmaTokenizer.from_pretrained(model_path)\n",
        "model_original = GemmaForCausalLM.from_pretrained(\n",
        "    model_path, torch_dtype=torch.float16, device_map='auto',\n",
        ")\n",
        "\n"
      ],
      "metadata": {
        "id": "RB-oV5ZhlAAf"
      },
      "execution_count": null,
      "outputs": []
    },
    {
      "cell_type": "markdown",
      "source": [
        "Vizsgáljuk meg több kérdés esetén az alapmodell válaszait:\n",
        "\n",
        "Ki volt Petőfi Sándor?\n",
        "Ki volt Szent István király?\n",
        "Erős fejfájás gyötör hogyan tudom csökkenteni?"
      ],
      "metadata": {
        "id": "0e65T8NBh-Hk"
      }
    },
    {
      "cell_type": "code",
      "source": [
        "text = \"Ki volt Petőfi Sándor?\"\n",
        "device = \"cuda:0\"\n",
        "inputs = tokenizer_original(text, return_tensors=\"pt\").to(device)\n",
        "\n",
        "outputs = model_original.generate(**inputs, max_new_tokens=100)\n",
        "print(tokenizer.decode(outputs[0], skip_special_tokens=True))\n"
      ],
      "metadata": {
        "colab": {
          "base_uri": "https://localhost:8080/"
        },
        "id": "Dtbqp3o5h826",
        "outputId": "9c144924-6f3c-4024-9e67-77649f7ad638"
      },
      "execution_count": null,
      "outputs": [
        {
          "output_type": "stream",
          "name": "stdout",
          "text": [
            "Ki volt Petőfi Sándor?\n",
            "\n",
            "A <b>Ki volt Petőfi Sándor?</b> (<i>Ki volt Petőfi Sándor?</i>) a Petőfi Sándorról szóló, 1999-ben megjelent, 1999-ben megjelent, 2000-ben megjelent, 2001-ben megjelent, 2002-ben megjelent, 2003-ban megjelent, 2004-ben meg\n"
          ]
        }
      ]
    },
    {
      "cell_type": "markdown",
      "source": [
        "##Modell finomhangolása 100 lépésen keresztül QLORA segítségével.\n",
        "Az összes lineáris réteget használjuk. A lora_alpha = 32\n",
        "lora_dropout = 0.1 lora_r = 64 legyen."
      ],
      "metadata": {
        "id": "gq-MuySiiViT"
      }
    },
    {
      "cell_type": "code",
      "source": [],
      "metadata": {
        "id": "Q24DZjshid8S"
      },
      "execution_count": null,
      "outputs": []
    },
    {
      "cell_type": "code",
      "source": [],
      "metadata": {
        "id": "1LMUlYibjVJ8"
      },
      "execution_count": null,
      "outputs": []
    },
    {
      "cell_type": "code",
      "source": [],
      "metadata": {
        "id": "kSmXZCzqjVM0"
      },
      "execution_count": null,
      "outputs": []
    },
    {
      "cell_type": "code",
      "source": [],
      "metadata": {
        "id": "KUPEeAAYjVPN"
      },
      "execution_count": null,
      "outputs": []
    },
    {
      "cell_type": "markdown",
      "source": [
        "A finomhangolt modellt ellenőrízzük vissza!"
      ],
      "metadata": {
        "id": "cHu8wDbwjYjb"
      }
    },
    {
      "cell_type": "code",
      "source": [
        "text = \"Ki volt Petőfi Sándor?\"\n",
        "device = \"cuda:0\"\n",
        "inputs = tokenizer_original(text, return_tensors=\"pt\").to(device)\n",
        "\n",
        "outputs = model_original.generate(**inputs, max_new_tokens=100)\n",
        "print(tokenizer.decode(outputs[0], skip_special_tokens=True))"
      ],
      "metadata": {
        "id": "f0luHNZEjVR6"
      },
      "execution_count": null,
      "outputs": []
    }
  ]
}