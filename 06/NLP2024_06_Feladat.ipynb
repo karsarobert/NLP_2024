{
  "nbformat": 4,
  "nbformat_minor": 0,
  "metadata": {
    "colab": {
      "provenance": [],
      "authorship_tag": "ABX9TyNR/+mDh1oPm6apBBb82cES",
      "include_colab_link": true
    },
    "kernelspec": {
      "name": "python3",
      "display_name": "Python 3"
    },
    "language_info": {
      "name": "python"
    }
  },
  "cells": [
    {
      "cell_type": "markdown",
      "metadata": {
        "id": "view-in-github",
        "colab_type": "text"
      },
      "source": [
        "<a href=\"https://colab.research.google.com/github/karsarobert/NLP_2024/blob/main/06/NLP2024_06_Feladat.ipynb\" target=\"_parent\"><img src=\"https://colab.research.google.com/assets/colab-badge.svg\" alt=\"Open In Colab\"/></a>"
      ]
    },
    {
      "cell_type": "markdown",
      "source": [
        "# Természetes nyelvfeldolgozás\n",
        "# PTE Gépi tanulás III.\n",
        "\n",
        "## 6. Gyakorlat\n",
        "### 2024. március 13.\n"
      ],
      "metadata": {
        "id": "MqD2ZFtg18zU"
      }
    },
    {
      "cell_type": "markdown",
      "source": [
        "#Feladat\n",
        "\n",
        "Töltsük le a telex (https://telex.hu/english?oldal=1) angol nyelvű oldaláról az első 10 cikket egy dataframe-be.\n"
      ],
      "metadata": {
        "id": "r_dT2zTvX1qP"
      }
    },
    {
      "cell_type": "markdown",
      "source": [
        "| Title                                             | Link                                                                                   | Text                                                      |\n",
        "|---------------------------------------------------|----------------------------------------------------------------------------------------|-----------------------------------------------------------|\n",
        "| Hungarian FM summons US ambassador over Biden’s ‘lies’ | [Link](https://telex.hu/english/2024/03/12/hungarian-fm-summons-us-ambassador-over-bidens-lies) | Hungary doesn't have to tolerate lies, even f...         |\n",
        "| Hungarian government only one to vote against ... | [Link](https://telex.hu/english/2024/03/12/hungarian-government-only-one-to-vote-against)   | Member states voted on a regulation on transpa...       |\n",
        "| Trump-admiring fake Twitter profile delivers p... | [Link](https://telex.hu/english/2024/03/12/trump-admiring-fake-twitter-profile-delivers-pro-russian-propaganda) | The perfect case for the newly established Sov...       |\n",
        "| Orbán: Trump is a legend                          | [Link](https://telex.hu/english/2024/03/11/orban-trump-is-a-legend)                        | \"He is indeed the seventh, which is a dangerou...       |\n",
        "| Set decorator Zsuzsa Mihalek wins Oscar           | [Link](https://telex.hu/english/2024/03/11/set-decorator-zsuzsa-mihalek-wins-oscar)        |                                                           |\n",
        "| He's the boss, he's a great leader – Trump hos... | [Link](https://telex.hu/english/2024/03/09/hes-the-boss-hes-a-great-leader-trump-ho...)     | Donald Trump and a small group of his close ad...       |\n",
        "| VSquare: Tusk and Fiala were shouting at Orbán... | [Link](https://telex.hu/english/2024/03/08/vsquare-tusk-and-fiala-were-shouting-at-orban)  | Prime Minister Viktor Orbán of Hungary (L), Pe...       |\n",
        "| Majority holds Orbán responsible for clemency ... | [Link](https://telex.hu/english/2024/03/08/majority-holds-orban-responsible-for-clemency)   | A representative poll conducted by Republikon ...       |\n",
        "| Orbán met with Trump's former senior adviser i... | [Link](https://telex.hu/english/2024/03/07/orban-met-with-trumps-former-senior-adviser-in-washington-dc) | Prime Minister Viktor Orbán spoke on Thursday ...       |\n",
        "| UNESCO warns Hungary against implementing orig... | [Link](https://telex.hu/english/2024/03/07/unesco-warns-hungary-against-implementing-original-boundary-of-ferto-landscape-world-heritage-site) | The Fertő landscape cannot bear any more const...       |\n"
      ],
      "metadata": {
        "id": "GO1VdKSNZewJ"
      }
    },
    {
      "cell_type": "markdown",
      "source": [
        "A cikkek szövegét (text) foglaljuk össze max 80 token hosszúságúra egy summarized mezőbe a facebook/bart-large-cnn modell segítségével.\n",
        "\n"
      ],
      "metadata": {
        "id": "F70hc0uvaStZ"
      }
    },
    {
      "cell_type": "markdown",
      "source": [
        "Az összefoglalás szöveg hangulatát értékeljük a cardiffnlp/twitter-roberta-base-sentiment-latest modell segítségével. A label és score értékeket is adjuk hozzá a dataframe-hez.\n"
      ],
      "metadata": {
        "id": "eFWXnxB0bI4-"
      }
    },
    {
      "cell_type": "markdown",
      "source": [
        "Az összefoglalt angolnyelvű szövegeket fordítsuk le magyar nyelvre."
      ],
      "metadata": {
        "id": "avH9c4cVbssd"
      }
    },
    {
      "cell_type": "markdown",
      "source": [
        "Készítsük elő egy emailhez a datafamet, úgy hogy HTML kóddá alakítjuk az alábbi formátum szerint."
      ],
      "metadata": {
        "id": "VJpJqWbLb46M"
      }
    },
    {
      "cell_type": "markdown",
      "source": [
        "\n",
        "<html>\n",
        "<head>\n",
        "<title></title>\n",
        "</head>\n",
        "<body>\n",
        "<h1>Releváns cikkek összefoglalója</h1>\n",
        "<p>Ez az email a legfrissebb releváns cikkeket foglalja össze.</p>\n",
        "<ul>\n",
        "\n",
        "  <li>\n",
        "    <h2>Hungarian FM summons US ambassador over Biden’s remarks about Orbán</h2>\n",
        "    <p><a href=\"https://telex.hu/english/2024/03/12/hungarian-fm-summons-us-ambassador-over-bidens-remarks-about-orban\">https://telex.hu/english/2024/03/12/hungarian-fm-summons-us-ambassador-over-bidens-remarks-about-orban</a></p>\n",
        "    <p>US President Joe Biden criticised Hungarian Prime Minister Viktor Orbán. The Foreign Ministry has summoned the US Ambassador for an \"urgent\" meeting. The ambassador was asked to produce a quote from the prime minister, but no such statement was made. The US ambassador also said that the official US position is that \"here in Hungary we are building a dictatorship\"</p>\n",
        "    <p>Joe Biden elnök bírálta Orbán Viktor miniszterelnököt. A Külügyminisztérium \"sürgős\" találkozóra hívta össze az amerikai nagykövetet. A nagykövetet felkérték, hogy idézzen a miniszterelnöktől, de nem tett ilyen nyilatkozatot. Az amerikai nagykövet azt is elmondta, hogy a hivatalos amerikai álláspont az, hogy \"itt Magyarországon diktatúrát építünk\"</p>\n",
        "  </li>\n",
        "  \n",
        "  <li>\n",
        "    <h2>Hungarian government only one to vote against EU law on transparency in political advertising</h2>\n",
        "    <p><a href=\"https://telex.hu/english/2024/03/12/hungarian-government-only-one-to-vote-against-eu-law-on-transparency-in-political-advertising\">https://telex.hu/english/2024/03/12/hungarian-government-only-one-to-vote-against-eu-law-on-transparency-in-political-advertising</a></p>\n",
        "    <p>Member states voted on a regulation on transparency in political advertising in the EU Council on Monday. The Hungarian government's representative was the only one to vote against the regulation. A qualified majority (i.e. 15 out of 27 countries accounting for 65% of the EU's total population) was enough for the proposal to pass.</p>\n",
        "    <p>A magyar kormány képviselője volt az egyetlen, aki a rendelet ellen szavazott. A minősített többség (az EU teljes lakosságának 65%-át kitevő 27 ország közül 15) elegendő volt a javaslat elfogadásához.</p>\n",
        "  </li>\n",
        "  \n",
        "  <li>\n",
        "    <h2>Trump-admiring fake Twitter profile delivers perfect case for Sovereignty Protection Authority</h2>\n",
        "    <p><a href=\"https://telex.hu/english/2024/03/12/trump-admiring-fake-twitter-profile-delivers-perfect-case-for-sovereignty-protection-authority\">https://telex.hu/english/2024/03/12/trump-admiring-fake-twitter-profile-delivers-perfect-case-for-sovereignty-protection-authority</a></p>\n",
        "    <p>The government-affiliated press in Hungary has been announcing in unison that there is now definite proof that George Soros funded the Hungarian opposition during the 2022 election campaign. All their articles are referencing videos published on an X (formerly Twitter) account dedicated to praising Donald Trump under the name MagaBabe. The videos feature author Kati Marton, chair of A4D's New York advisory board, and Dávid Korányi, the former advisor to Budapest mayor Gergely Karácsony. According to the government’s propaganda outlets the videos show them admitting</p>\n",
        "    <p> A magyar kormányhoz tartozó sajtó egy időben bejelentette, hogy a 2022-es választási kampány során Soros György támogatta a magyar ellenzéket. Minden cikkük egy X-en (korábban Twitteren) közzétett videókra utal, amelyek Donald Trumpot MagaBabe néven dicsérik. A videók szerzője, Kati Marton, az A4D New York tanácsadó testületének elnöke, valamint Korányi Dávid, Karácsony Gergely volt tanácsadója.</p>\n",
        "  </li>\n",
        "  \n",
        "  <li>\n",
        "    <h2>Orbán: Trump is a legend</h2>\n",
        "    <p><a href=\"https://telex.hu/english/2024/03/11/orban-trump-is-a-legend\">https://telex.hu/english/2024/03/11/orban-trump-is-a-legend</a></p>\n",
        "    <p>Viktor Orbán said he had worked with all seven Hungarian heads of state as PM and therefore had insight into \"what kind of president was suitable for each situation\" The Prime Minister said that if he becomes president again, Trump will not want to fund the security of Europeans nor will he support the US giving money to Ukraine.</p>\n",
        "    <p>Viktor Orbán azt mondta, miniszterelnökként mind a hét magyar államfővel dolgozott együtt, ezért bepillantást nyert \"milyen elnök alkalmas minden helyzetre\" A miniszterelnök azt mondta, hogy ha újra elnök lesz, Trump nem fogja támogatni az európaiak biztonságát, és nem fogja támogatni az USA-t sem, hogy pénzt adjon Ukrajnának.</p>\n",
        "  </li>\n",
        "  \n",
        "  <li>\n",
        "    <h2>Set decorator Zsuzsa Mihalek wins Oscar</h2>\n",
        "    <p><a href=\"https://telex.hu/english/2024/03/11/set-decorator-zsuzsa-mihalek-wins-oscar-for-her-work-on-poor-things\">https://telex.hu/english/2024/03/11/set-decorator-zsuzsa-mihalek-wins-oscar-for-her-work-on-poor-things</a></p>\n",
        "    <p>CNN.com will feature iReporter photos in a weekly Travel Snapshots gallery. Please submit your best shots of the U.S. for next week. Visit CNN.com/Travel next Wednesday for a new gallery of snapshots. Please share your best photos of the United States with CNN iReport.</p>\n",
        "    <p> CNN.com egy heti Travel Snapshots galéria iReporter képekkel. Kérjük, küldje el a legjobb felvételeket az Egyesült Államok a jövő héten. Látogasson el a CNN.com/Utazz jövő szerdán egy új galéria a fényképek. Kérjük, ossza meg a legjobb fotókat az Egyesült Államok a CNN iReport.</p>\n",
        "  </li>\n",
        "  \n",
        "  <li>\n",
        "    <h2>He's the boss, he's a great leader – Trump hosts Orbán in friendly meeting at his Florida estate</h2>\n",
        "    <p><a href=\"https://telex.hu/english/2024/03/09/hes-the-boss-hes-a-great-leader-trump-hosts-orban-in-friendly-meeting-at-his-florida-estate\">https://telex.hu/english/2024/03/09/hes-the-boss-hes-a-great-leader-trump-hosts-orban-in-friendly-meeting-at-his-florida-estate</a></p>\n",
        "    <p>Viktor Orbán and Donald Trump met for about an hour at the former president's estate in Mar-a-Lago, Florida. CNN sources described the meeting as a friendly chat without an agenda. Orbán has traditionally had a tense relationship with Democratic-led US administrations.</p>\n",
        "    <p> Viktor Orbán és Donald Trump körülbelül egy órán át találkoztak a floridai Mar-a-Lago-ban lévő korábbi elnök birtokán. A CNN forrásai szerint a találkozó egy baráti beszélgetés volt napirend nélkül. Orbán hagyományosan feszült kapcsolatban állt a demokrata kormányokkal.</p>\n",
        "  </li>\n",
        "  \n",
        "  <li>\n",
        "    <h2>VSquare: Tusk and Fiala were shouting at Orbán while Fico remained silent</h2>\n",
        "    <p><a href=\"https://telex.hu/english/2024/03/08/vsquare-tusk-and-fiala-were-shouting-at-orban-while-fico-remained-silent\">https://telex.hu/english/2024/03/08/vsquare-tusk-and-fiala-were-shouting-at-orban-while-fico-remained-silent</a></p>\n",
        "    <p>Viktor Orbán of Hungary, Petr Fiala of the Czech Republic, Donald Tusk of Poland and Robert Fico of Slovakia attended the V4 summit in Prague on 27 February 2024. Prime Minister of Hungary Viktor Orbán attended the summit with President of Czech Republic Petr Fischer and Prime Ministers of Poland, Czech Republic and Slovakia.</p>\n",
        "    <p> Orbán Viktor, a Cseh Köztársaság Petr Fiala, a lengyel Donald Tusk és a szlovák Robert Fico részt vett a Prágai V4-csúcstalálkozón 2024. február 27-én.</p>\n",
        "  </li>\n",
        "  \n",
        "  <li>\n",
        "    <h2>Majority holds Orbán responsible for clemency decision, survey shows</h2>\n",
        "    <p><a href=\"https://telex.hu/english/2024/03/08/majority-holds-orban-responsible-for-clemency-decision-survey-shows\">https://telex.hu/english/2024/03/08/majority-holds-orban-responsible-for-clemency-decision-survey-shows</a></p>\n",
        "    <p>Only one in four people are of the opinion that President Katalin Novák, who granted a presidential pardon to Endre K., is responsible. Opposition and governing party voters have very different views on the role of the President and the Prime Minister in the story. One in seven respondents believe that Bishop Zoltán Balog was instrumental in the decision being made.</p>\n",
        "    <p> Novák Katalin elnök, aki K. Endre elnöki kegyelmet adott, csak négyből egynek van véleménye az elnök és a miniszterelnök szerepéről. Hétből egy válaszadó úgy véli, hogy Balog Zoltán püspök fontos szerepet játszott a meghozott döntésben.</p>\n",
        "  </li>\n",
        "  \n",
        "  <li>\n",
        "    <h2>Orbán met with Trump's former senior adviser in Washington D.C.</h2>\n",
        "    <p><a href=\"https://telex.hu/english/2024/03/07/orban-met-with-trumps-former-senior-adviser-in-washington-d-c\">https://telex.hu/english/2024/03/07/orban-met-with-trumps-former-senior-adviser-in-washington-d-c</a></p>\n",
        "    <p>Prime Minister Viktor Orbán spoke on Thursday at a panel discussion about US-Hungarian relations in Washington, DC. The Heritage Foundation has been a major think tank of the American right for decades, and according to Kevin Roberts, its new goal is to institutionalise Trumpism. The audience included some of the most prominent American right-wing politicians, analysts and public figures.</p>\n",
        "    <p>Orbán Viktor miniszterelnök csütörtökön a washingtoni (DC) amerikai-magyar kapcsolatokról tartott megbeszélésen beszélt. A Heritage Foundation évtizedek óta az amerikai jog egyik fő agytrösztje, és Kevin Roberts szerint új célja a Trumpizmus intézményesítése. A közönség a legkiemelkedőbb amerikai jobboldali politikusokat, elemzőket és közszereplőket is magában foglalta.</p>\n",
        "  </li>\n",
        "  \n",
        "  <li>\n",
        "    <h2>UNESCO warns Hungary against implementing original project planned for Lake Fertő</h2>\n",
        "    <p><a href=\"https://telex.hu/english/2024/03/07/unesco-warns-hungary-against-implementing-the-original-project-planned-for-lake-ferto\">https://telex.hu/english/2024/03/07/unesco-warns-hungary-against-implementing-the-original-project-planned-for-lake-ferto</a></p>\n",
        "    <p>Lake Fertő-Neusiedlersee Cultural Landscape has been a World Heritage Site since 2001. UNESCO's team was joined by experts from ICOMOS, the international organisation for the conservation and protection of cultural heritage sites. Their findings show that the lake is already under pressure from development, tourism, hydrological changes as well as the impact of climate change.</p>\n",
        "    <p> Lake Fertő-Neusiedlersee A kulturális táj 2001 óta a világörökség része. Az UNESCO csapatát az ICOMOS, a kulturális örökség megőrzéséért és védelméért felelős nemzetközi szervezet szakemberei is csatlakoztak. Az eredmények azt mutatják, hogy a tónak már a fejlődés, az idegenforgalom, a hidrológiai változások, valamint az éghajlatváltozás hatása is nyomás alatt áll.</p>\n",
        "  </li>\n",
        "  \n",
        "</ul>\n",
        "</body>\n",
        "</html>\n"
      ],
      "metadata": {
        "id": "rjU32-sFdC36"
      }
    }
  ]
}